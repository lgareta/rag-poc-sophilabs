{
 "cells": [
  {
   "cell_type": "code",
   "execution_count": null,
   "id": "0aa871a8",
   "metadata": {},
   "outputs": [],
   "source": [
    "# --- 1. Instalar dependencias ---\n",
    "!pip install llama-index==0.10.33 llama-index-embeddings-openai pypdf pandas requests"
   ]
  },
  {
   "cell_type": "code",
   "execution_count": null,
   "id": "e861767b",
   "metadata": {},
   "outputs": [],
   "source": [
    "# --- 2. Imports ---\n",
    "import os\n",
    "import pandas as pd\n",
    "from pathlib import Path\n",
    "from llama_index.core import SimpleDirectoryReader, VectorStoreIndex, Document\n",
    "from llama_index.embeddings.openai import OpenAIEmbedding"
   ]
  },
  {
   "cell_type": "code",
   "execution_count": null,
   "id": "617932ab",
   "metadata": {},
   "outputs": [],
   "source": [
    "# --- 3. Configurar OpenAI ---\n",
    "os.environ['OPENAI_API_KEY'] = \"TU_API_KEY\""
   ]
  },
  {
   "cell_type": "code",
   "execution_count": null,
   "id": "3f9a2755",
   "metadata": {},
   "outputs": [],
   "source": [
    "# --- 4. Cargar PDFs y HTML ---\n",
    "docs = SimpleDirectoryReader(input_dirs=[\"../data/pdfs\", \"../data/html\"]).load_data()\n",
    "print(f\"Se cargaron {len(docs)} documentos de PDF/HTML\")"
   ]
  },
  {
   "cell_type": "code",
   "execution_count": null,
   "id": "eaf4490c",
   "metadata": {},
   "outputs": [],
   "source": [
    "# --- 5. Cargar CSV (projects.csv) ---\n",
    "df = pd.read_csv(\"../data/projects.csv\")\n",
    "csv_docs = []\n",
    "for row in df.itertuples():\n",
    "    text = f\"Project: {row.project_name}, Client: {row.client}, Year: {row.year}, Tech: {row.tech}, Desc: {row.short_description}\"\n",
    "    csv_docs.append(Document(text=text))\n",
    "\n",
    "print(f\"Se cargaron {len(csv_docs)} documentos desde CSV\")\n",
    "docs.extend(csv_docs)"
   ]
  },
  {
   "cell_type": "code",
   "execution_count": null,
   "id": "26f20ffb",
   "metadata": {},
   "outputs": [],
   "source": [
    "# --- 6. Crear embeddings + índice ---\n",
    "embed_model = OpenAIEmbedding(model=\"text-embedding-3-small\")\n",
    "index = VectorStoreIndex.from_documents(docs, embed_model=embed_model)"
   ]
  },
  {
   "cell_type": "code",
   "execution_count": null,
   "id": "d4ce2ef5",
   "metadata": {},
   "outputs": [],
   "source": [
    "# --- 7. Crear query engine ---\n",
    "query_engine = index.as_query_engine()"
   ]
  },
  {
   "cell_type": "code",
   "execution_count": null,
   "id": "8b8f7b53",
   "metadata": {},
   "outputs": [],
   "source": [
    "# --- 8. Ejemplos de queries ---\n",
    "response = query_engine.query(\"¿Qué servicios ofrece Sophilabs?\")\n",
    "print(\"Q: ¿Qué servicios ofrece Sophilabs?\\n\")\n",
    "print(\"A:\", response, \"\\n\")\n",
    "\n",
    "response = query_engine.query(\"Mencioná un proyecto y la tecnología usada.\")\n",
    "print(\"Q: Mencioná un proyecto y la tecnología usada.\\n\")\n",
    "print(\"A:\", response, \"\\n\")"
   ]
  }
 ],
 "metadata": {
  "kernelspec": {
   "display_name": "Python 3 (ipykernel)",
   "language": "python",
   "name": "python3"
  },
  "language_info": {
   "codemirror_mode": {
    "name": "ipython",
    "version": 3
   },
   "file_extension": ".py",
   "mimetype": "text/x-python",
   "name": "python",
   "nbconvert_exporter": "python",
   "pygments_lexer": "ipython3",
   "version": "3.10.13"
  }
 },
 "nbformat": 4,
 "nbformat_minor": 5
}
